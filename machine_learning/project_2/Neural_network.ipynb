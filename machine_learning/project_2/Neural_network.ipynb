{
 "cells": [
  {
   "cell_type": "code",
   "execution_count": 1,
   "id": "02658b82-55d5-4a59-b849-d76125ee50c9",
   "metadata": {},
   "outputs": [],
   "source": [
    "import numpy as np\n",
    "import tensorflow as tf\n",
    "import random as python_random\n",
    "np.random.seed(22)\n",
    "python_random.seed(22)\n",
    "tf.random.set_seed(22)\n",
    "\n",
    "import pandas as pd\n",
    "import warnings\n",
    "import keras\n",
    "from keras import backend as K\n",
    "import numpy as np\n",
    "from keras.models import load_model\n",
    "from keras.models import Sequential\n",
    "from keras.layers import Dense, Dropout\n",
    "from keras.utils import np_utils\n",
    "import matplotlib.pyplot as plt\n",
    "import seaborn as sns\n",
    "from tensorflow import keras\n",
    "\n",
    "from preprocessing import *\n",
    "\n",
    "# haciendo los graficos un poco mas bonitos en matplotlib\n",
    "plt.style.use('default') \n",
    "#plt.rcParams['figure.figsize'] = (20, 10)\n",
    "\n",
    "plt.rcParams['figure.dpi'] = 120\n",
    "\n",
    "# seteando tipo de grid en seaborn\n",
    "sns.set_theme(style='ticks', palette=None, font_scale=.9) \n",
    "\n",
    "#filtrado de warnings\n",
    "warnings.filterwarnings('ignore')"
   ]
  },
  {
   "cell_type": "code",
   "execution_count": 2,
   "id": "1decaab9-2e89-4bc1-9beb-74bf555afc1b",
   "metadata": {},
   "outputs": [],
   "source": [
    "noticias_online_train_df = pd.read_parquet('train').set_index('url')\n",
    "noticias_online_test_df = pd.read_parquet('test').set_index('url')"
   ]
  },
  {
   "cell_type": "code",
   "execution_count": 3,
   "id": "254e2920-fb4f-4025-8b39-c16462602a2f",
   "metadata": {},
   "outputs": [],
   "source": [
    "noticias_online_train_orden_df = noticias_online_train_df.sort_values('timedelta', ascending=False)\n",
    "noticias_online_target_orden_df = noticias_online_train_orden_df.popular\n",
    "noticias_online_train_orden_df = noticias_online_train_orden_df.drop(columns=['popular', 'shares'])\n",
    "\n",
    "noticias_online_target_test_df = noticias_online_test_df.popular\n",
    "noticias_online_test_df = noticias_online_test_df.drop(columns=['popular', 'shares'])"
   ]
  },
  {
   "cell_type": "code",
   "execution_count": 4,
   "id": "121a0026-b257-498e-8abe-841fa35e165b",
   "metadata": {},
   "outputs": [],
   "source": [
    "X_train, X_val, Y_train, Y_val = train_test_split(noticias_online_train_orden_df, noticias_online_target_orden_df, 0.4)"
   ]
  },
  {
   "cell_type": "markdown",
   "id": "03d9728f-3549-45ef-a4e7-68435930f149",
   "metadata": {},
   "source": [
    "# Mean imputer, robust scaler, one hot encoding, mean encoding con smoothing y TF-IDF encoding"
   ]
  },
  {
   "cell_type": "markdown",
   "id": "bf265cc7-d43d-42f2-ab94-bdaec6cabdb8",
   "metadata": {},
   "source": [
    "## Encoders y preprocesado de X_train, X_val, Y_train, Y_val y train"
   ]
  },
  {
   "cell_type": "code",
   "execution_count": 5,
   "id": "d7464946-fce0-429e-ad37-43bca50cac4f",
   "metadata": {},
   "outputs": [],
   "source": [
    "noticias_online_train_tf_idf, noticias_online_val_tf_idf, noticias_online_test_tf_idf = preprocessing_mean_imputer_robust_escaler_one_hot_encoding_mean_encoding_smooth_tf_idf_vectorizer(\n",
    "    X_train,\n",
    "    X_val,\n",
    "    Y_train,\n",
    "    noticias_online_test_df,\n",
    "    True\n",
    "    )\n",
    "\n",
    "noticias_online_train_target_enc = Y_train.map({False: 0, True: 1})\n",
    "noticias_online_val_target_enc = Y_val.map({False: 0, True: 1})\n",
    "noticias_online_target_test_enc = noticias_online_target_test_df.map({False: 0, True: 1})"
   ]
  },
  {
   "cell_type": "markdown",
   "id": "39661039-5647-42f4-92bb-d03755d39722",
   "metadata": {},
   "source": [
    "## Entreno la red"
   ]
  },
  {
   "cell_type": "code",
   "execution_count": 6,
   "id": "af76d5fb-1970-4cf5-a039-b48dbd812b31",
   "metadata": {},
   "outputs": [],
   "source": [
    "modelo = Sequential()\n",
    "modelo.add(Dense(16, input_shape=(74,), activation='tanh'))\n",
    "modelo.add(Dense(8, activation='tanh'))\n",
    "modelo.add(Dense(4, activation='tanh'))\n",
    "modelo.add(Dense(1, activation=\"sigmoid\"))"
   ]
  },
  {
   "cell_type": "code",
   "execution_count": 7,
   "id": "8387b986-459b-404e-aa2f-1feb531916ad",
   "metadata": {},
   "outputs": [
    {
     "name": "stdout",
     "output_type": "stream",
     "text": [
      "Model: \"sequential\"\n",
      "_________________________________________________________________\n",
      " Layer (type)                Output Shape              Param #   \n",
      "=================================================================\n",
      " dense (Dense)               (None, 16)                1200      \n",
      "                                                                 \n",
      " dense_1 (Dense)             (None, 8)                 136       \n",
      "                                                                 \n",
      " dense_2 (Dense)             (None, 4)                 36        \n",
      "                                                                 \n",
      " dense_3 (Dense)             (None, 1)                 5         \n",
      "                                                                 \n",
      "=================================================================\n",
      "Total params: 1,377\n",
      "Trainable params: 1,377\n",
      "Non-trainable params: 0\n",
      "_________________________________________________________________\n"
     ]
    }
   ],
   "source": [
    "opt = keras.optimizers.Adam(lr=0.0001)\n",
    "modelo.compile(loss='binary_crossentropy', optimizer=opt, metrics=['AUC'])\n",
    "modelo.summary()"
   ]
  },
  {
   "cell_type": "code",
   "execution_count": 8,
   "id": "c0706917-dd80-466d-974f-1b2729c66257",
   "metadata": {},
   "outputs": [
    {
     "name": "stdout",
     "output_type": "stream",
     "text": [
      "Epoch 1/60\n",
      "84/84 [==============================] - 1s 3ms/step - loss: 0.8066 - auc: 0.5179 - val_loss: 0.7040 - val_auc: 0.5151\n",
      "Epoch 2/60\n",
      "84/84 [==============================] - 0s 965us/step - loss: 0.7102 - auc: 0.5189 - val_loss: 0.6308 - val_auc: 0.5121\n",
      "Epoch 3/60\n",
      "84/84 [==============================] - 0s 989us/step - loss: 0.6391 - auc: 0.5224 - val_loss: 0.5805 - val_auc: 0.5092\n",
      "Epoch 4/60\n",
      "84/84 [==============================] - 0s 1ms/step - loss: 0.5912 - auc: 0.5244 - val_loss: 0.5487 - val_auc: 0.5082\n",
      "Epoch 5/60\n",
      "84/84 [==============================] - 0s 989us/step - loss: 0.5607 - auc: 0.5278 - val_loss: 0.5286 - val_auc: 0.5097\n",
      "Epoch 6/60\n",
      "84/84 [==============================] - 0s 977us/step - loss: 0.5416 - auc: 0.5346 - val_loss: 0.5157 - val_auc: 0.5146\n",
      "Epoch 7/60\n",
      "84/84 [==============================] - 0s 977us/step - loss: 0.5296 - auc: 0.5372 - val_loss: 0.5070 - val_auc: 0.5196\n",
      "Epoch 8/60\n",
      "84/84 [==============================] - 0s 977us/step - loss: 0.5218 - auc: 0.5469 - val_loss: 0.5014 - val_auc: 0.5278\n",
      "Epoch 9/60\n",
      "84/84 [==============================] - 0s 989us/step - loss: 0.5166 - auc: 0.5510 - val_loss: 0.4973 - val_auc: 0.5367\n",
      "Epoch 10/60\n",
      "84/84 [==============================] - 0s 989us/step - loss: 0.5130 - auc: 0.5578 - val_loss: 0.4941 - val_auc: 0.5456\n",
      "Epoch 11/60\n",
      "84/84 [==============================] - 0s 977us/step - loss: 0.5104 - auc: 0.5630 - val_loss: 0.4917 - val_auc: 0.5534\n",
      "Epoch 12/60\n",
      "84/84 [==============================] - 0s 989us/step - loss: 0.5084 - auc: 0.5689 - val_loss: 0.4897 - val_auc: 0.5627\n",
      "Epoch 13/60\n",
      "84/84 [==============================] - 0s 989us/step - loss: 0.5069 - auc: 0.5745 - val_loss: 0.4882 - val_auc: 0.5703\n",
      "Epoch 14/60\n",
      "84/84 [==============================] - 0s 989us/step - loss: 0.5056 - auc: 0.5813 - val_loss: 0.4867 - val_auc: 0.5792\n",
      "Epoch 15/60\n",
      "84/84 [==============================] - 0s 977us/step - loss: 0.5045 - auc: 0.5871 - val_loss: 0.4854 - val_auc: 0.5878\n",
      "Epoch 16/60\n",
      "84/84 [==============================] - 0s 1ms/step - loss: 0.5034 - auc: 0.5920 - val_loss: 0.4843 - val_auc: 0.5941\n",
      "Epoch 17/60\n",
      "84/84 [==============================] - 0s 977us/step - loss: 0.5024 - auc: 0.5978 - val_loss: 0.4832 - val_auc: 0.6017\n",
      "Epoch 18/60\n",
      "84/84 [==============================] - 0s 977us/step - loss: 0.5016 - auc: 0.6033 - val_loss: 0.4821 - val_auc: 0.6088\n",
      "Epoch 19/60\n",
      "84/84 [==============================] - 0s 977us/step - loss: 0.5007 - auc: 0.6075 - val_loss: 0.4812 - val_auc: 0.6148\n",
      "Epoch 20/60\n",
      "84/84 [==============================] - 0s 977us/step - loss: 0.4998 - auc: 0.6115 - val_loss: 0.4801 - val_auc: 0.6209\n",
      "Epoch 21/60\n",
      "84/84 [==============================] - 0s 977us/step - loss: 0.4990 - auc: 0.6157 - val_loss: 0.4793 - val_auc: 0.6250\n",
      "Epoch 22/60\n",
      "84/84 [==============================] - 0s 1ms/step - loss: 0.4982 - auc: 0.6193 - val_loss: 0.4783 - val_auc: 0.6299\n",
      "Epoch 23/60\n",
      "84/84 [==============================] - 0s 977us/step - loss: 0.4975 - auc: 0.6214 - val_loss: 0.4774 - val_auc: 0.6345\n",
      "Epoch 24/60\n",
      "84/84 [==============================] - 0s 977us/step - loss: 0.4968 - auc: 0.6251 - val_loss: 0.4766 - val_auc: 0.6390\n",
      "Epoch 25/60\n",
      "84/84 [==============================] - 0s 977us/step - loss: 0.4961 - auc: 0.6280 - val_loss: 0.4758 - val_auc: 0.6421\n",
      "Epoch 26/60\n",
      "84/84 [==============================] - 0s 977us/step - loss: 0.4955 - auc: 0.6307 - val_loss: 0.4750 - val_auc: 0.6457\n",
      "Epoch 27/60\n",
      "84/84 [==============================] - 0s 965us/step - loss: 0.4948 - auc: 0.6328 - val_loss: 0.4742 - val_auc: 0.6485\n",
      "Epoch 28/60\n",
      "84/84 [==============================] - 0s 1ms/step - loss: 0.4942 - auc: 0.6350 - val_loss: 0.4736 - val_auc: 0.6506\n",
      "Epoch 29/60\n",
      "84/84 [==============================] - 0s 1ms/step - loss: 0.4936 - auc: 0.6366 - val_loss: 0.4727 - val_auc: 0.6531\n",
      "Epoch 30/60\n",
      "84/84 [==============================] - 0s 1ms/step - loss: 0.4930 - auc: 0.6388 - val_loss: 0.4720 - val_auc: 0.6548\n",
      "Epoch 31/60\n",
      "84/84 [==============================] - 0s 977us/step - loss: 0.4925 - auc: 0.6404 - val_loss: 0.4712 - val_auc: 0.6579\n",
      "Epoch 32/60\n",
      "84/84 [==============================] - 0s 977us/step - loss: 0.4919 - auc: 0.6417 - val_loss: 0.4708 - val_auc: 0.6599\n",
      "Epoch 33/60\n",
      "84/84 [==============================] - 0s 1ms/step - loss: 0.4914 - auc: 0.6433 - val_loss: 0.4701 - val_auc: 0.6615\n",
      "Epoch 34/60\n",
      "84/84 [==============================] - 0s 989us/step - loss: 0.4909 - auc: 0.6456 - val_loss: 0.4695 - val_auc: 0.6628\n",
      "Epoch 35/60\n",
      "84/84 [==============================] - 0s 989us/step - loss: 0.4904 - auc: 0.6463 - val_loss: 0.4688 - val_auc: 0.6644\n",
      "Epoch 36/60\n",
      "84/84 [==============================] - 0s 989us/step - loss: 0.4899 - auc: 0.6485 - val_loss: 0.4683 - val_auc: 0.6663\n",
      "Epoch 37/60\n",
      "84/84 [==============================] - 0s 989us/step - loss: 0.4894 - auc: 0.6494 - val_loss: 0.4678 - val_auc: 0.6672\n",
      "Epoch 38/60\n",
      "84/84 [==============================] - 0s 977us/step - loss: 0.4890 - auc: 0.6510 - val_loss: 0.4674 - val_auc: 0.6683\n",
      "Epoch 39/60\n",
      "84/84 [==============================] - 0s 989us/step - loss: 0.4884 - auc: 0.6528 - val_loss: 0.4670 - val_auc: 0.6691\n",
      "Epoch 40/60\n",
      "84/84 [==============================] - 0s 977us/step - loss: 0.4878 - auc: 0.6539 - val_loss: 0.4664 - val_auc: 0.6701\n",
      "Epoch 41/60\n",
      "84/84 [==============================] - 0s 977us/step - loss: 0.4873 - auc: 0.6547 - val_loss: 0.4660 - val_auc: 0.6715\n",
      "Epoch 42/60\n",
      "84/84 [==============================] - 0s 989us/step - loss: 0.4869 - auc: 0.6563 - val_loss: 0.4654 - val_auc: 0.6723\n",
      "Epoch 43/60\n",
      "84/84 [==============================] - 0s 977us/step - loss: 0.4865 - auc: 0.6575 - val_loss: 0.4651 - val_auc: 0.6734\n",
      "Epoch 44/60\n",
      "84/84 [==============================] - 0s 977us/step - loss: 0.4861 - auc: 0.6583 - val_loss: 0.4647 - val_auc: 0.6736\n",
      "Epoch 45/60\n",
      "84/84 [==============================] - 0s 977us/step - loss: 0.4856 - auc: 0.6587 - val_loss: 0.4645 - val_auc: 0.6745\n",
      "Epoch 46/60\n",
      "84/84 [==============================] - 0s 989us/step - loss: 0.4853 - auc: 0.6600 - val_loss: 0.4640 - val_auc: 0.6752\n",
      "Epoch 47/60\n",
      "84/84 [==============================] - 0s 989us/step - loss: 0.4849 - auc: 0.6609 - val_loss: 0.4639 - val_auc: 0.6755\n",
      "Epoch 48/60\n",
      "84/84 [==============================] - 0s 989us/step - loss: 0.4845 - auc: 0.6617 - val_loss: 0.4635 - val_auc: 0.6762\n",
      "Epoch 49/60\n",
      "84/84 [==============================] - 0s 989us/step - loss: 0.4842 - auc: 0.6629 - val_loss: 0.4631 - val_auc: 0.6770\n",
      "Epoch 50/60\n",
      "84/84 [==============================] - 0s 977us/step - loss: 0.4838 - auc: 0.6633 - val_loss: 0.4628 - val_auc: 0.6777\n",
      "Epoch 51/60\n",
      "84/84 [==============================] - 0s 977us/step - loss: 0.4835 - auc: 0.6646 - val_loss: 0.4625 - val_auc: 0.6783\n",
      "Epoch 52/60\n",
      "84/84 [==============================] - 0s 989us/step - loss: 0.4832 - auc: 0.6649 - val_loss: 0.4622 - val_auc: 0.6786\n",
      "Epoch 53/60\n",
      "84/84 [==============================] - 0s 977us/step - loss: 0.4828 - auc: 0.6664 - val_loss: 0.4620 - val_auc: 0.6793\n",
      "Epoch 54/60\n",
      "84/84 [==============================] - 0s 1ms/step - loss: 0.4825 - auc: 0.6669 - val_loss: 0.4618 - val_auc: 0.6794\n",
      "Epoch 55/60\n",
      "84/84 [==============================] - 0s 989us/step - loss: 0.4822 - auc: 0.6678 - val_loss: 0.4615 - val_auc: 0.6797\n",
      "Epoch 56/60\n",
      "84/84 [==============================] - 0s 977us/step - loss: 0.4819 - auc: 0.6686 - val_loss: 0.4615 - val_auc: 0.6801\n",
      "Epoch 57/60\n",
      "84/84 [==============================] - 0s 989us/step - loss: 0.4816 - auc: 0.6691 - val_loss: 0.4619 - val_auc: 0.6790\n",
      "Epoch 58/60\n",
      "84/84 [==============================] - 0s 989us/step - loss: 0.4814 - auc: 0.6694 - val_loss: 0.4614 - val_auc: 0.6794\n",
      "Epoch 59/60\n",
      "84/84 [==============================] - 0s 989us/step - loss: 0.4811 - auc: 0.6701 - val_loss: 0.4613 - val_auc: 0.6796\n",
      "Epoch 60/60\n",
      "84/84 [==============================] - 0s 989us/step - loss: 0.4808 - auc: 0.6707 - val_loss: 0.4610 - val_auc: 0.6795\n"
     ]
    }
   ],
   "source": [
    "historia = modelo.fit(\n",
    "    noticias_online_train_tf_idf.values, noticias_online_train_target_enc.values, epochs=60, batch_size=256, validation_data=(noticias_online_val_tf_idf.values, noticias_online_val_target_enc.values)\n",
    ")"
   ]
  },
  {
   "cell_type": "markdown",
   "id": "584ac080-1aed-4a47-916a-3f90febf4b11",
   "metadata": {},
   "source": [
    "## Evaluo la red (con validación)"
   ]
  },
  {
   "cell_type": "code",
   "execution_count": 9,
   "id": "269f2460-3bc2-48dd-9073-82a6836d20ba",
   "metadata": {},
   "outputs": [
    {
     "name": "stdout",
     "output_type": "stream",
     "text": [
      "446/446 [==============================] - 0s 454us/step - loss: 0.4610 - auc: 0.6795\n"
     ]
    }
   ],
   "source": [
    "scores = modelo.evaluate(noticias_online_val_tf_idf, noticias_online_val_target_enc)"
   ]
  },
  {
   "cell_type": "code",
   "execution_count": 10,
   "id": "19c00c48-2ba9-4348-a721-8d6d82144011",
   "metadata": {},
   "outputs": [
    {
     "data": {
      "text/plain": [
       "'La auc es: 0.6795'"
      ]
     },
     "execution_count": 10,
     "metadata": {},
     "output_type": "execute_result"
    }
   ],
   "source": [
    "auc = f'La {modelo.metrics_names[1]} es: {round(scores[1], 4)}'\n",
    "auc"
   ]
  },
  {
   "cell_type": "markdown",
   "id": "53628650-bf66-4b36-9269-de8366922b0a",
   "metadata": {},
   "source": [
    "## Veo cómo fue el score de AUC en validacion y training"
   ]
  },
  {
   "cell_type": "code",
   "execution_count": 11,
   "id": "520e9335-0dce-404b-91ef-41451f415db8",
   "metadata": {},
   "outputs": [
    {
     "data": {
      "image/png": "[encoded data removed]",
      "text/plain": [
       "<Figure size 1200x600 with 1 Axes>"
      ]
     },
     "metadata": {
      "needs_background": "light"
     },
     "output_type": "display_data"
    }
   ],
   "source": [
    "fig = plt.figure(figsize=(12, 6), dpi=100)\n",
    "plt.plot(historia.history[\"val_auc\"], label=\"validation auc\")\n",
    "plt.plot(historia.history[\"auc\"], label=\"training auc\")\n",
    "plt.xlabel(\"Epoch\", weight=\"bold\", fontsize=16)\n",
    "plt.ylabel(\"AUC\", weight=\"bold\", fontsize=16)\n",
    "plt.legend()\n",
    "plt.show()"
   ]
  },
  {
   "cell_type": "markdown",
   "id": "26fdf1e1-d579-4b18-b7f8-4696189f3a8f",
   "metadata": {},
   "source": [
    "## "
   ]
  },
  {
   "cell_type": "markdown",
   "id": "18a79199-67ef-47bd-b752-863c6d389af0",
   "metadata": {},
   "source": [
    "## Evaluo la red (con test)"
   ]
  },
  {
   "cell_type": "code",
   "execution_count": 12,
   "id": "36cc2fd9-f216-4da6-a034-46cf1ae1a2ae",
   "metadata": {},
   "outputs": [
    {
     "name": "stdout",
     "output_type": "stream",
     "text": [
      "125/125 [==============================] - 0s 460us/step - loss: 0.4260 - auc: 0.6552\n"
     ]
    }
   ],
   "source": [
    "scores = modelo.evaluate(noticias_online_test_tf_idf, noticias_online_target_test_enc)"
   ]
  },
  {
   "cell_type": "code",
   "execution_count": 13,
   "id": "0d137ee4-dd26-40c2-9ef7-33246eb79ea6",
   "metadata": {},
   "outputs": [
    {
     "data": {
      "text/plain": [
       "'La auc es: 0.6552'"
      ]
     },
     "execution_count": 13,
     "metadata": {},
     "output_type": "execute_result"
    }
   ],
   "source": [
    "auc = f'La {modelo.metrics_names[1]} es: {round(scores[1], 4)}'\n",
    "auc"
   ]
  }
 ],
 "metadata": {
  "kernelspec": {
   "display_name": "Python 3 (ipykernel)",
   "language": "python",
   "name": "python3"
  },
  "language_info": {
   "codemirror_mode": {
    "name": "ipython",
    "version": 3
   },
   "file_extension": ".py",
   "mimetype": "text/x-python",
   "name": "python",
   "nbconvert_exporter": "python",
   "pygments_lexer": "ipython3",
   "version": "3.9.13"
  }
 },
 "nbformat": 4,
 "nbformat_minor": 5
}
