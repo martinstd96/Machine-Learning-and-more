{
 "cells": [
  {
   "cell_type": "code",
   "execution_count": 1,
   "id": "cf23d172-c5a4-4851-9eca-6f890c5b4226",
   "metadata": {},
   "outputs": [],
   "source": [
    "import pandas as pd\n",
    "import numpy as np\n",
    "import warnings\n",
    "seed = np.random.seed(22)\n",
    "import seaborn as sns\n",
    "import matplotlib.pyplot as plt\n",
    "import category_encoders as ce\n",
    "from preprocessing import *\n",
    "\n",
    "from xgboost import XGBClassifier\n",
    "from sklearn.neighbors import KNeighborsClassifier\n",
    "from sklearn.ensemble import VotingClassifier\n",
    "\n",
    "from sklearn.metrics import roc_curve, auc\n",
    "from sklearn.metrics import roc_auc_score\n",
    "\n",
    "#filtrado de warnings\n",
    "warnings.filterwarnings('ignore')"
   ]
  },
  {
   "cell_type": "code",
   "execution_count": 2,
   "id": "aba33838-13d8-4244-8f68-e356a4e1f169",
   "metadata": {},
   "outputs": [],
   "source": [
    "noticias_online_train_df = pd.read_parquet('train').set_index('url')\n",
    "noticias_online_test_df = pd.read_parquet('test').set_index('url')"
   ]
  },
  {
   "cell_type": "code",
   "execution_count": 3,
   "id": "baa25f4b-e166-4a11-b1a9-7e31eeb8f404",
   "metadata": {},
   "outputs": [],
   "source": [
    "noticias_online_train_orden_df = noticias_online_train_df.sort_values('timedelta', ascending=False)\n",
    "noticias_online_target_orden_df = noticias_online_train_orden_df.popular\n",
    "noticias_online_train_orden_df = noticias_online_train_orden_df.drop(columns=['popular', 'shares'])\n",
    "\n",
    "noticias_online_target_test_df = noticias_online_test_df.popular\n",
    "noticias_online_test_df = noticias_online_test_df.drop(columns=['popular', 'shares'])"
   ]
  },
  {
   "cell_type": "code",
   "execution_count": 4,
   "id": "bf8dc068-859a-4f1d-8f7f-86386cbb0441",
   "metadata": {},
   "outputs": [],
   "source": [
    "X_train, X_val, Y_train, Y_val = train_test_split(noticias_online_train_orden_df, noticias_online_target_orden_df, 0.4)"
   ]
  },
  {
   "cell_type": "markdown",
   "id": "b1758206-32d5-4e70-a024-52f4aa5df9b0",
   "metadata": {},
   "source": [
    "# Knn imputer, standard scaler, one hot encoding, mean encoding y count vectorizer encoding"
   ]
  },
  {
   "cell_type": "markdown",
   "id": "6db3e881-8961-4f1e-a8cc-cd0fe1d8c04e",
   "metadata": {},
   "source": [
    "## Encoders y preprocesado de X_train, X_val, Y_train, Y_val y train"
   ]
  },
  {
   "cell_type": "code",
   "execution_count": 5,
   "id": "ca8306f8-c3fb-4ad9-8666-7eb94b73afa4",
   "metadata": {},
   "outputs": [],
   "source": [
    "noticias_online_train_count_vec, noticias_online_val_count_vec, noticias_online_test_count_vec = preprocessing_knn_imputer_standar_escaler_one_hot_encoding_mean_encoding_count_vectorizer(\n",
    "    X_train,\n",
    "    X_val,\n",
    "    Y_train,\n",
    "    noticias_online_test_df,\n",
    "    True\n",
    "    )\n",
    "\n",
    "noticias_online_train_target_enc = Y_train.map({False: 0, True: 1})\n",
    "noticias_online_val_target_enc = Y_val.map({False: 0, True: 1})\n",
    "noticias_online_target_test_enc = noticias_online_target_test_df.map({False: 0, True: 1})"
   ]
  },
  {
   "cell_type": "markdown",
   "id": "e162c012-d563-43ee-b715-1a8324e5a290",
   "metadata": {},
   "source": [
    "## Entreno y veo cómo me va (uso validación)"
   ]
  },
  {
   "cell_type": "markdown",
   "id": "1bdfba80-c3d6-4161-a6dd-7ed4ad863937",
   "metadata": {},
   "source": [
    "`parametros_xgb` y `parametros_knn` son sacados de la sección correspondiente a \n",
    "`Knn imputer, standard scaler, one hot encoding, mean encoding y count vectorizer encoding` del\n",
    "notebook de XGBoost y KNN, respectivamente."
   ]
  },
  {
   "cell_type": "code",
   "execution_count": 6,
   "id": "b5e81bec-2bc0-4767-9895-513d6d70168b",
   "metadata": {},
   "outputs": [],
   "source": [
    "parametros_xgb = {'colsample_bytree': 0.94,\n",
    " 'gamma': 0.64,\n",
    " 'learning_rate': 0.09,\n",
    " 'max_depth': 3,\n",
    " 'n_estimators': 68,\n",
    " 'subsample': 0.74}\n",
    "xgb_classi = XGBClassifier(**parametros_xgb, random_state=22)"
   ]
  },
  {
   "cell_type": "code",
   "execution_count": 7,
   "id": "55de2bd3-52f0-4b57-baf0-771d06445dc6",
   "metadata": {},
   "outputs": [],
   "source": [
    "parametros_knn = {'leaf_size': 1,\n",
    " 'metric': 'manhattan',\n",
    " 'n_neighbors': 300,\n",
    " 'p': 1,\n",
    " 'weights': 'distance'}\n",
    "knn_clasi = KNeighborsClassifier(**parametros_knn)"
   ]
  },
  {
   "cell_type": "code",
   "execution_count": 8,
   "id": "403ca4e2-b098-4763-83af-05d7347f5026",
   "metadata": {},
   "outputs": [],
   "source": [
    "ensamble = VotingClassifier(\n",
    "    estimators=[('xgb', xgb_classi), ('knn', knn_clasi)], voting='soft', weights=[1, 1])"
   ]
  },
  {
   "cell_type": "code",
   "execution_count": 9,
   "id": "9bbc37d6-7172-4c59-8457-f1af6a47fda4",
   "metadata": {},
   "outputs": [
    {
     "data": {
      "text/html": [
       "<style>#sk-container-id-1 {color: black;background-color: white;}#sk-container-id-1 pre{padding: 0;}#sk-container-id-1 div.sk-toggleable {background-color: white;}#sk-container-id-1 label.sk-toggleable__label {cursor: pointer;display: block;width: 100%;margin-bottom: 0;padding: 0.3em;box-sizing: border-box;text-align: center;}#sk-container-id-1 label.sk-toggleable__label-arrow:before {content: \"▸\";float: left;margin-right: 0.25em;color: #696969;}#sk-container-id-1 label.sk-toggleable__label-arrow:hover:before {color: black;}#sk-container-id-1 div.sk-estimator:hover label.sk-toggleable__label-arrow:before {color: black;}#sk-container-id-1 div.sk-toggleable__content {max-height: 0;max-width: 0;overflow: hidden;text-align: left;background-color: #f0f8ff;}#sk-container-id-1 div.sk-toggleable__content pre {margin: 0.2em;color: black;border-radius: 0.25em;background-color: #f0f8ff;}#sk-container-id-1 input.sk-toggleable__control:checked~div.sk-toggleable__content {max-height: 200px;max-width: 100%;overflow: auto;}#sk-container-id-1 input.sk-toggleable__control:checked~label.sk-toggleable__label-arrow:before {content: \"▾\";}#sk-container-id-1 div.sk-estimator input.sk-toggleable__control:checked~label.sk-toggleable__label {background-color: #d4ebff;}#sk-container-id-1 div.sk-label input.sk-toggleable__control:checked~label.sk-toggleable__label {background-color: #d4ebff;}#sk-container-id-1 input.sk-hidden--visually {border: 0;clip: rect(1px 1px 1px 1px);clip: rect(1px, 1px, 1px, 1px);height: 1px;margin: -1px;overflow: hidden;padding: 0;position: absolute;width: 1px;}#sk-container-id-1 div.sk-estimator {font-family: monospace;background-color: #f0f8ff;border: 1px dotted black;border-radius: 0.25em;box-sizing: border-box;margin-bottom: 0.5em;}#sk-container-id-1 div.sk-estimator:hover {background-color: #d4ebff;}#sk-container-id-1 div.sk-parallel-item::after {content: \"\";width: 100%;border-bottom: 1px solid gray;flex-grow: 1;}#sk-container-id-1 div.sk-label:hover label.sk-toggleable__label {background-color: #d4ebff;}#sk-container-id-1 div.sk-serial::before {content: \"\";position: absolute;border-left: 1px solid gray;box-sizing: border-box;top: 0;bottom: 0;left: 50%;z-index: 0;}#sk-container-id-1 div.sk-serial {display: flex;flex-direction: column;align-items: center;background-color: white;padding-right: 0.2em;padding-left: 0.2em;position: relative;}#sk-container-id-1 div.sk-item {position: relative;z-index: 1;}#sk-container-id-1 div.sk-parallel {display: flex;align-items: stretch;justify-content: center;background-color: white;position: relative;}#sk-container-id-1 div.sk-item::before, #sk-container-id-1 div.sk-parallel-item::before {content: \"\";position: absolute;border-left: 1px solid gray;box-sizing: border-box;top: 0;bottom: 0;left: 50%;z-index: -1;}#sk-container-id-1 div.sk-parallel-item {display: flex;flex-direction: column;z-index: 1;position: relative;background-color: white;}#sk-container-id-1 div.sk-parallel-item:first-child::after {align-self: flex-end;width: 50%;}#sk-container-id-1 div.sk-parallel-item:last-child::after {align-self: flex-start;width: 50%;}#sk-container-id-1 div.sk-parallel-item:only-child::after {width: 0;}#sk-container-id-1 div.sk-dashed-wrapped {border: 1px dashed gray;margin: 0 0.4em 0.5em 0.4em;box-sizing: border-box;padding-bottom: 0.4em;background-color: white;}#sk-container-id-1 div.sk-label label {font-family: monospace;font-weight: bold;display: inline-block;line-height: 1.2em;}#sk-container-id-1 div.sk-label-container {text-align: center;}#sk-container-id-1 div.sk-container {/* jupyter's `normalize.less` sets `[hidden] { display: none; }` but bootstrap.min.css set `[hidden] { display: none !important; }` so we also need the `!important` here to be able to override the default hidden behavior on the sphinx rendered scikit-learn.org. See: https://github.com/scikit-learn/scikit-learn/issues/21755 */display: inline-block !important;position: relative;}#sk-container-id-1 div.sk-text-repr-fallback {display: none;}</style><div id=\"sk-container-id-1\" class=\"sk-top-container\"><div class=\"sk-text-repr-fallback\"><pre>VotingClassifier(estimators=[(&#x27;xgb&#x27;,\n",
       "                              XGBClassifier(base_score=None, booster=None,\n",
       "                                            callbacks=None,\n",
       "                                            colsample_bylevel=None,\n",
       "                                            colsample_bynode=None,\n",
       "                                            colsample_bytree=0.94,\n",
       "                                            early_stopping_rounds=None,\n",
       "                                            enable_categorical=False,\n",
       "                                            eval_metric=None, gamma=0.64,\n",
       "                                            gpu_id=None, grow_policy=None,\n",
       "                                            importance_type=None,\n",
       "                                            interaction_constraints=None,\n",
       "                                            learning_rate=0.09, max_bin=Non...\n",
       "                                            max_delta_step=None, max_depth=3,\n",
       "                                            max_leaves=None,\n",
       "                                            min_child_weight=None, missing=nan,\n",
       "                                            monotone_constraints=None,\n",
       "                                            n_estimators=68, n_jobs=None,\n",
       "                                            num_parallel_tree=None,\n",
       "                                            predictor=None, random_state=22,\n",
       "                                            reg_alpha=None, reg_lambda=None, ...)),\n",
       "                             (&#x27;knn&#x27;,\n",
       "                              KNeighborsClassifier(leaf_size=1,\n",
       "                                                   metric=&#x27;manhattan&#x27;,\n",
       "                                                   n_neighbors=300, p=1,\n",
       "                                                   weights=&#x27;distance&#x27;))],\n",
       "                 voting=&#x27;soft&#x27;, weights=[1, 1])</pre><b>In a Jupyter environment, please rerun this cell to show the HTML representation or trust the notebook. <br />On GitHub, the HTML representation is unable to render, please try loading this page with nbviewer.org.</b></div><div class=\"sk-container\" hidden><div class=\"sk-item sk-dashed-wrapped\"><div class=\"sk-label-container\"><div class=\"sk-label sk-toggleable\"><input class=\"sk-toggleable__control sk-hidden--visually\" id=\"sk-estimator-id-1\" type=\"checkbox\" ><label for=\"sk-estimator-id-1\" class=\"sk-toggleable__label sk-toggleable__label-arrow\">VotingClassifier</label><div class=\"sk-toggleable__content\"><pre>VotingClassifier(estimators=[(&#x27;xgb&#x27;,\n",
       "                              XGBClassifier(base_score=None, booster=None,\n",
       "                                            callbacks=None,\n",
       "                                            colsample_bylevel=None,\n",
       "                                            colsample_bynode=None,\n",
       "                                            colsample_bytree=0.94,\n",
       "                                            early_stopping_rounds=None,\n",
       "                                            enable_categorical=False,\n",
       "                                            eval_metric=None, gamma=0.64,\n",
       "                                            gpu_id=None, grow_policy=None,\n",
       "                                            importance_type=None,\n",
       "                                            interaction_constraints=None,\n",
       "                                            learning_rate=0.09, max_bin=Non...\n",
       "                                            max_delta_step=None, max_depth=3,\n",
       "                                            max_leaves=None,\n",
       "                                            min_child_weight=None, missing=nan,\n",
       "                                            monotone_constraints=None,\n",
       "                                            n_estimators=68, n_jobs=None,\n",
       "                                            num_parallel_tree=None,\n",
       "                                            predictor=None, random_state=22,\n",
       "                                            reg_alpha=None, reg_lambda=None, ...)),\n",
       "                             (&#x27;knn&#x27;,\n",
       "                              KNeighborsClassifier(leaf_size=1,\n",
       "                                                   metric=&#x27;manhattan&#x27;,\n",
       "                                                   n_neighbors=300, p=1,\n",
       "                                                   weights=&#x27;distance&#x27;))],\n",
       "                 voting=&#x27;soft&#x27;, weights=[1, 1])</pre></div></div></div><div class=\"sk-parallel\"><div class=\"sk-parallel-item\"><div class=\"sk-item\"><div class=\"sk-label-container\"><div class=\"sk-label sk-toggleable\"><label>xgb</label></div></div><div class=\"sk-serial\"><div class=\"sk-item\"><div class=\"sk-estimator sk-toggleable\"><input class=\"sk-toggleable__control sk-hidden--visually\" id=\"sk-estimator-id-2\" type=\"checkbox\" ><label for=\"sk-estimator-id-2\" class=\"sk-toggleable__label sk-toggleable__label-arrow\">XGBClassifier</label><div class=\"sk-toggleable__content\"><pre>XGBClassifier(base_score=None, booster=None, callbacks=None,\n",
       "              colsample_bylevel=None, colsample_bynode=None,\n",
       "              colsample_bytree=0.94, early_stopping_rounds=None,\n",
       "              enable_categorical=False, eval_metric=None, gamma=0.64,\n",
       "              gpu_id=None, grow_policy=None, importance_type=None,\n",
       "              interaction_constraints=None, learning_rate=0.09, max_bin=None,\n",
       "              max_cat_to_onehot=None, max_delta_step=None, max_depth=3,\n",
       "              max_leaves=None, min_child_weight=None, missing=nan,\n",
       "              monotone_constraints=None, n_estimators=68, n_jobs=None,\n",
       "              num_parallel_tree=None, predictor=None, random_state=22,\n",
       "              reg_alpha=None, reg_lambda=None, ...)</pre></div></div></div></div></div></div><div class=\"sk-parallel-item\"><div class=\"sk-item\"><div class=\"sk-label-container\"><div class=\"sk-label sk-toggleable\"><label>knn</label></div></div><div class=\"sk-serial\"><div class=\"sk-item\"><div class=\"sk-estimator sk-toggleable\"><input class=\"sk-toggleable__control sk-hidden--visually\" id=\"sk-estimator-id-3\" type=\"checkbox\" ><label for=\"sk-estimator-id-3\" class=\"sk-toggleable__label sk-toggleable__label-arrow\">KNeighborsClassifier</label><div class=\"sk-toggleable__content\"><pre>KNeighborsClassifier(leaf_size=1, metric=&#x27;manhattan&#x27;, n_neighbors=300, p=1,\n",
       "                     weights=&#x27;distance&#x27;)</pre></div></div></div></div></div></div></div></div></div></div>"
      ],
      "text/plain": [
       "VotingClassifier(estimators=[('xgb',\n",
       "                              XGBClassifier(base_score=None, booster=None,\n",
       "                                            callbacks=None,\n",
       "                                            colsample_bylevel=None,\n",
       "                                            colsample_bynode=None,\n",
       "                                            colsample_bytree=0.94,\n",
       "                                            early_stopping_rounds=None,\n",
       "                                            enable_categorical=False,\n",
       "                                            eval_metric=None, gamma=0.64,\n",
       "                                            gpu_id=None, grow_policy=None,\n",
       "                                            importance_type=None,\n",
       "                                            interaction_constraints=None,\n",
       "                                            learning_rate=0.09, max_bin=Non...\n",
       "                                            max_delta_step=None, max_depth=3,\n",
       "                                            max_leaves=None,\n",
       "                                            min_child_weight=None, missing=nan,\n",
       "                                            monotone_constraints=None,\n",
       "                                            n_estimators=68, n_jobs=None,\n",
       "                                            num_parallel_tree=None,\n",
       "                                            predictor=None, random_state=22,\n",
       "                                            reg_alpha=None, reg_lambda=None, ...)),\n",
       "                             ('knn',\n",
       "                              KNeighborsClassifier(leaf_size=1,\n",
       "                                                   metric='manhattan',\n",
       "                                                   n_neighbors=300, p=1,\n",
       "                                                   weights='distance'))],\n",
       "                 voting='soft', weights=[1, 1])"
      ]
     },
     "execution_count": 9,
     "metadata": {},
     "output_type": "execute_result"
    }
   ],
   "source": [
    "ensamble.fit(noticias_online_train_count_vec, noticias_online_train_target_enc)"
   ]
  },
  {
   "cell_type": "code",
   "execution_count": 10,
   "id": "38caa2c2-11d2-4fc6-bec1-bf283b5cb065",
   "metadata": {},
   "outputs": [],
   "source": [
    "prediccion = ensamble.predict_proba(noticias_online_val_count_vec)[:,1]"
   ]
  },
  {
   "cell_type": "code",
   "execution_count": 11,
   "id": "e0261078-130a-4806-8e21-b21ca2317b7c",
   "metadata": {},
   "outputs": [
    {
     "data": {
      "text/plain": [
       "0.7205"
      ]
     },
     "execution_count": 11,
     "metadata": {},
     "output_type": "execute_result"
    }
   ],
   "source": [
    "round(roc_auc_score(noticias_online_val_target_enc, prediccion, average='micro'), 4)"
   ]
  },
  {
   "cell_type": "markdown",
   "id": "f8260fdc-ee9b-4416-90e7-256f07b091d0",
   "metadata": {},
   "source": [
    "## Predicciones (uso test)"
   ]
  },
  {
   "cell_type": "code",
   "execution_count": 12,
   "id": "e8683f59-c14d-47da-8b5a-a4275d645a09",
   "metadata": {},
   "outputs": [],
   "source": [
    "prediccion = ensamble.predict_proba(noticias_online_test_count_vec)[:,1]"
   ]
  },
  {
   "cell_type": "code",
   "execution_count": 13,
   "id": "e6d223e6-0fb5-4556-bfd5-ccc6fbde9321",
   "metadata": {},
   "outputs": [
    {
     "data": {
      "text/plain": [
       "0.7237"
      ]
     },
     "execution_count": 13,
     "metadata": {},
     "output_type": "execute_result"
    }
   ],
   "source": [
    "round(roc_auc_score(noticias_online_target_test_enc, prediccion, average='micro'), 4)"
   ]
  }
 ],
 "metadata": {
  "kernelspec": {
   "display_name": "Python 3 (ipykernel)",
   "language": "python",
   "name": "python3"
  },
  "language_info": {
   "codemirror_mode": {
    "name": "ipython",
    "version": 3
   },
   "file_extension": ".py",
   "mimetype": "text/x-python",
   "name": "python",
   "nbconvert_exporter": "python",
   "pygments_lexer": "ipython3",
   "version": "3.9.13"
  }
 },
 "nbformat": 4,
 "nbformat_minor": 5
}
