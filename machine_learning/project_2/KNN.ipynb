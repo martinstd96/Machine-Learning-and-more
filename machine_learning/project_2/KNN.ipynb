{
 "cells": [
  {
   "cell_type": "code",
   "execution_count": 1,
   "id": "89b1c71f-6382-4cb8-99c6-cd4025088ae2",
   "metadata": {},
   "outputs": [],
   "source": [
    "import pandas as pd\n",
    "import numpy as np\n",
    "import warnings\n",
    "seed = np.random.seed(22)\n",
    "import seaborn as sns\n",
    "import matplotlib.pyplot as plt\n",
    "import category_encoders as ce\n",
    "from preprocessing import *\n",
    "\n",
    "from sklearn.neighbors import KNeighborsClassifier\n",
    "from sklearn.model_selection import GridSearchCV\n",
    "\n",
    "from sklearn.metrics import roc_curve, auc\n",
    "from sklearn.metrics import roc_auc_score\n",
    "\n",
    "#filtrado de warnings\n",
    "warnings.filterwarnings('ignore')"
   ]
  },
  {
   "cell_type": "code",
   "execution_count": 2,
   "id": "e0417b39-684c-4eff-84f4-1e7ded64831d",
   "metadata": {},
   "outputs": [],
   "source": [
    "noticias_online_train_df = pd.read_parquet('train').set_index('url')\n",
    "noticias_online_test_df = pd.read_parquet('test').set_index('url')"
   ]
  },
  {
   "cell_type": "code",
   "execution_count": 3,
   "id": "0f7de0d3-54ae-4490-a583-439148ef1d81",
   "metadata": {},
   "outputs": [],
   "source": [
    "noticias_online_train_orden_df = noticias_online_train_df.sort_values('timedelta', ascending=False)\n",
    "noticias_online_target_orden_df = noticias_online_train_orden_df.popular\n",
    "noticias_online_train_orden_df = noticias_online_train_orden_df.drop(columns=['popular', 'shares'])\n",
    "\n",
    "noticias_online_target_test_df = noticias_online_test_df.popular\n",
    "noticias_online_test_df = noticias_online_test_df.drop(columns=['popular', 'shares'])"
   ]
  },
  {
   "cell_type": "code",
   "execution_count": 4,
   "id": "61bf2572-6c4d-4d32-a81e-a3b9f74d8a8d",
   "metadata": {},
   "outputs": [],
   "source": [
    "X_train, X_val, Y_train, Y_val = train_test_split(noticias_online_train_orden_df, noticias_online_target_orden_df, 0.4)"
   ]
  },
  {
   "cell_type": "markdown",
   "id": "d9e8b5f5-67c1-4064-b03a-f5bb51057528",
   "metadata": {},
   "source": [
    "# Knn imputer, standard scaler, one hot encoding, mean encoding y count vectorizer encoding"
   ]
  },
  {
   "cell_type": "markdown",
   "id": "b11fe147-8f51-4d65-958a-94764d5774dd",
   "metadata": {},
   "source": [
    "## Encoders y preprocesado de X_train, X_val, Y_train e Y_val"
   ]
  },
  {
   "cell_type": "code",
   "execution_count": 5,
   "id": "bc8cf503-b59b-4650-951c-89587f955a79",
   "metadata": {},
   "outputs": [],
   "source": [
    "noticias_online_train_count_vec, noticias_online_val_count_vec, ppp = preprocessing_knn_imputer_standar_escaler_one_hot_encoding_mean_encoding_count_vectorizer(\n",
    "    X_train,\n",
    "    X_val,\n",
    "    Y_train,\n",
    "    )\n",
    "\n",
    "noticias_online_train_target_enc = Y_train.map({False: 0, True: 1})\n",
    "noticias_online_val_target_enc = Y_val.map({False: 0, True: 1})"
   ]
  },
  {
   "cell_type": "markdown",
   "id": "900b4b3a-ea51-47b8-bcc3-c7c78ff55cb5",
   "metadata": {},
   "source": [
    "Sacado de XGBoost:"
   ]
  },
  {
   "cell_type": "code",
   "execution_count": 6,
   "id": "f9d736c4-a68c-4b58-838a-34546839e776",
   "metadata": {},
   "outputs": [],
   "source": [
    "columnas_a_usar = ['kw_avg_avg',\n",
    " 'data_channel_is_socmed',\n",
    " 'is_weekend',\n",
    " 'data_channel_is_entertainment',\n",
    " 'self_reference_avg_sharess',\n",
    " 'data_channel_is_tech',\n",
    " 'x0_sports',\n",
    " 'kw_max_avg',\n",
    " 'weekday_is_sunday',\n",
    " 'self_reference_min_shares',\n",
    " 'kw_max_max',\n",
    " 'weekday_is_saturday',\n",
    " 'data_channel_is_bus',\n",
    " 'surprise2',\n",
    " 'num_imgs',\n",
    " 'num_videos',\n",
    " 'num_hrefs',\n",
    " 'kw_min_max',\n",
    " 'credit',\n",
    " 'kw_min_avg',\n",
    " 'weekday_is_tuesday',\n",
    " 'kw_avg_max',\n",
    " 'LDA_02',\n",
    " 'just',\n",
    " 'x0_science/tech',\n",
    " 'title_sentiment_polarity',\n",
    " 'n_unique_tokens',\n",
    " 'n_non_stop_unique_tokens',\n",
    " 'data_channel_is_lifestyle',\n",
    " 'self_reference_max_shares',\n",
    " 'timedelta',\n",
    " 'abs_title_sentiment_polarity',\n",
    " 'x0_business',\n",
    " 'rate_positive_words',\n",
    " 'time',\n",
    " 'twitter',\n",
    " 'avg_positive_polarity',\n",
    " 'global_subjectivity',\n",
    " 'LDA_00',\n",
    " 'rate_negative_words',\n",
    " 'n_tokens_content',\n",
    " 'global_rate_positive_words',\n",
    " 'title_subjectivity',\n",
    " 'LDA_03',\n",
    " 'LDA_04']"
   ]
  },
  {
   "cell_type": "code",
   "execution_count": 7,
   "id": "65d27d5e-7317-4063-bf10-a6a420d3b611",
   "metadata": {},
   "outputs": [],
   "source": [
    "df_reducido = noticias_online_train_count_vec[columnas_a_usar]"
   ]
  },
  {
   "cell_type": "markdown",
   "id": "2f4cfdb6-14c1-4bd5-862b-f6af04fe8ae0",
   "metadata": {},
   "source": [
    "## Búsqueda de hiperparámetros"
   ]
  },
  {
   "cell_type": "code",
   "execution_count": 8,
   "id": "5f161a40-c9ff-4030-a14a-f678dbe7b2b7",
   "metadata": {},
   "outputs": [],
   "source": [
    "knn_model = KNeighborsClassifier()\n",
    "\n",
    "leaf_size = [1, 15]\n",
    "weights = [\"uniform\", \"distance\"]\n",
    "n_neighbors = [150, 300, 450]\n",
    "p = [1, 2]\n",
    "metric = [\"euclidean\", \"manhattan\", \"chebyshev\"]\n",
    "\n",
    "knn_hyperparameters = dict(weights=weights, n_neighbors=n_neighbors, leaf_size=leaf_size, p=p, metric=metric)"
   ]
  },
  {
   "cell_type": "code",
   "execution_count": 9,
   "id": "e173e88b-c216-4bd1-b8a4-2a986822e8e9",
   "metadata": {},
   "outputs": [
    {
     "name": "stdout",
     "output_type": "stream",
     "text": [
      "Fitting 5 folds for each of 72 candidates, totalling 360 fits\n"
     ]
    },
    {
     "data": {
      "text/html": [
       "<style>#sk-container-id-1 {color: black;background-color: white;}#sk-container-id-1 pre{padding: 0;}#sk-container-id-1 div.sk-toggleable {background-color: white;}#sk-container-id-1 label.sk-toggleable__label {cursor: pointer;display: block;width: 100%;margin-bottom: 0;padding: 0.3em;box-sizing: border-box;text-align: center;}#sk-container-id-1 label.sk-toggleable__label-arrow:before {content: \"▸\";float: left;margin-right: 0.25em;color: #696969;}#sk-container-id-1 label.sk-toggleable__label-arrow:hover:before {color: black;}#sk-container-id-1 div.sk-estimator:hover label.sk-toggleable__label-arrow:before {color: black;}#sk-container-id-1 div.sk-toggleable__content {max-height: 0;max-width: 0;overflow: hidden;text-align: left;background-color: #f0f8ff;}#sk-container-id-1 div.sk-toggleable__content pre {margin: 0.2em;color: black;border-radius: 0.25em;background-color: #f0f8ff;}#sk-container-id-1 input.sk-toggleable__control:checked~div.sk-toggleable__content {max-height: 200px;max-width: 100%;overflow: auto;}#sk-container-id-1 input.sk-toggleable__control:checked~label.sk-toggleable__label-arrow:before {content: \"▾\";}#sk-container-id-1 div.sk-estimator input.sk-toggleable__control:checked~label.sk-toggleable__label {background-color: #d4ebff;}#sk-container-id-1 div.sk-label input.sk-toggleable__control:checked~label.sk-toggleable__label {background-color: #d4ebff;}#sk-container-id-1 input.sk-hidden--visually {border: 0;clip: rect(1px 1px 1px 1px);clip: rect(1px, 1px, 1px, 1px);height: 1px;margin: -1px;overflow: hidden;padding: 0;position: absolute;width: 1px;}#sk-container-id-1 div.sk-estimator {font-family: monospace;background-color: #f0f8ff;border: 1px dotted black;border-radius: 0.25em;box-sizing: border-box;margin-bottom: 0.5em;}#sk-container-id-1 div.sk-estimator:hover {background-color: #d4ebff;}#sk-container-id-1 div.sk-parallel-item::after {content: \"\";width: 100%;border-bottom: 1px solid gray;flex-grow: 1;}#sk-container-id-1 div.sk-label:hover label.sk-toggleable__label {background-color: #d4ebff;}#sk-container-id-1 div.sk-serial::before {content: \"\";position: absolute;border-left: 1px solid gray;box-sizing: border-box;top: 0;bottom: 0;left: 50%;z-index: 0;}#sk-container-id-1 div.sk-serial {display: flex;flex-direction: column;align-items: center;background-color: white;padding-right: 0.2em;padding-left: 0.2em;position: relative;}#sk-container-id-1 div.sk-item {position: relative;z-index: 1;}#sk-container-id-1 div.sk-parallel {display: flex;align-items: stretch;justify-content: center;background-color: white;position: relative;}#sk-container-id-1 div.sk-item::before, #sk-container-id-1 div.sk-parallel-item::before {content: \"\";position: absolute;border-left: 1px solid gray;box-sizing: border-box;top: 0;bottom: 0;left: 50%;z-index: -1;}#sk-container-id-1 div.sk-parallel-item {display: flex;flex-direction: column;z-index: 1;position: relative;background-color: white;}#sk-container-id-1 div.sk-parallel-item:first-child::after {align-self: flex-end;width: 50%;}#sk-container-id-1 div.sk-parallel-item:last-child::after {align-self: flex-start;width: 50%;}#sk-container-id-1 div.sk-parallel-item:only-child::after {width: 0;}#sk-container-id-1 div.sk-dashed-wrapped {border: 1px dashed gray;margin: 0 0.4em 0.5em 0.4em;box-sizing: border-box;padding-bottom: 0.4em;background-color: white;}#sk-container-id-1 div.sk-label label {font-family: monospace;font-weight: bold;display: inline-block;line-height: 1.2em;}#sk-container-id-1 div.sk-label-container {text-align: center;}#sk-container-id-1 div.sk-container {/* jupyter's `normalize.less` sets `[hidden] { display: none; }` but bootstrap.min.css set `[hidden] { display: none !important; }` so we also need the `!important` here to be able to override the default hidden behavior on the sphinx rendered scikit-learn.org. See: https://github.com/scikit-learn/scikit-learn/issues/21755 */display: inline-block !important;position: relative;}#sk-container-id-1 div.sk-text-repr-fallback {display: none;}</style><div id=\"sk-container-id-1\" class=\"sk-top-container\"><div class=\"sk-text-repr-fallback\"><pre>GridSearchCV(cv=5, estimator=KNeighborsClassifier(), n_jobs=-1,\n",
       "             param_grid={&#x27;leaf_size&#x27;: [1, 15],\n",
       "                         &#x27;metric&#x27;: [&#x27;euclidean&#x27;, &#x27;manhattan&#x27;, &#x27;chebyshev&#x27;],\n",
       "                         &#x27;n_neighbors&#x27;: [150, 300, 450], &#x27;p&#x27;: [1, 2],\n",
       "                         &#x27;weights&#x27;: [&#x27;uniform&#x27;, &#x27;distance&#x27;]},\n",
       "             scoring=&#x27;roc_auc&#x27;, verbose=4)</pre><b>In a Jupyter environment, please rerun this cell to show the HTML representation or trust the notebook. <br />On GitHub, the HTML representation is unable to render, please try loading this page with nbviewer.org.</b></div><div class=\"sk-container\" hidden><div class=\"sk-item sk-dashed-wrapped\"><div class=\"sk-label-container\"><div class=\"sk-label sk-toggleable\"><input class=\"sk-toggleable__control sk-hidden--visually\" id=\"sk-estimator-id-1\" type=\"checkbox\" ><label for=\"sk-estimator-id-1\" class=\"sk-toggleable__label sk-toggleable__label-arrow\">GridSearchCV</label><div class=\"sk-toggleable__content\"><pre>GridSearchCV(cv=5, estimator=KNeighborsClassifier(), n_jobs=-1,\n",
       "             param_grid={&#x27;leaf_size&#x27;: [1, 15],\n",
       "                         &#x27;metric&#x27;: [&#x27;euclidean&#x27;, &#x27;manhattan&#x27;, &#x27;chebyshev&#x27;],\n",
       "                         &#x27;n_neighbors&#x27;: [150, 300, 450], &#x27;p&#x27;: [1, 2],\n",
       "                         &#x27;weights&#x27;: [&#x27;uniform&#x27;, &#x27;distance&#x27;]},\n",
       "             scoring=&#x27;roc_auc&#x27;, verbose=4)</pre></div></div></div><div class=\"sk-parallel\"><div class=\"sk-parallel-item\"><div class=\"sk-item\"><div class=\"sk-label-container\"><div class=\"sk-label sk-toggleable\"><input class=\"sk-toggleable__control sk-hidden--visually\" id=\"sk-estimator-id-2\" type=\"checkbox\" ><label for=\"sk-estimator-id-2\" class=\"sk-toggleable__label sk-toggleable__label-arrow\">estimator: KNeighborsClassifier</label><div class=\"sk-toggleable__content\"><pre>KNeighborsClassifier()</pre></div></div></div><div class=\"sk-serial\"><div class=\"sk-item\"><div class=\"sk-estimator sk-toggleable\"><input class=\"sk-toggleable__control sk-hidden--visually\" id=\"sk-estimator-id-3\" type=\"checkbox\" ><label for=\"sk-estimator-id-3\" class=\"sk-toggleable__label sk-toggleable__label-arrow\">KNeighborsClassifier</label><div class=\"sk-toggleable__content\"><pre>KNeighborsClassifier()</pre></div></div></div></div></div></div></div></div></div></div>"
      ],
      "text/plain": [
       "GridSearchCV(cv=5, estimator=KNeighborsClassifier(), n_jobs=-1,\n",
       "             param_grid={'leaf_size': [1, 15],\n",
       "                         'metric': ['euclidean', 'manhattan', 'chebyshev'],\n",
       "                         'n_neighbors': [150, 300, 450], 'p': [1, 2],\n",
       "                         'weights': ['uniform', 'distance']},\n",
       "             scoring='roc_auc', verbose=4)"
      ]
     },
     "execution_count": 9,
     "metadata": {},
     "output_type": "execute_result"
    }
   ],
   "source": [
    "gsearch = GridSearchCV(estimator=knn_model, param_grid=knn_hyperparameters, cv=5, verbose=4, scoring='roc_auc', n_jobs=-1)\n",
    "gsearch.fit(df_reducido, noticias_online_train_target_enc)"
   ]
  },
  {
   "cell_type": "code",
   "execution_count": 10,
   "id": "e66cca45-fed2-4759-b937-73166576dff3",
   "metadata": {},
   "outputs": [
    {
     "data": {
      "text/plain": [
       "{'leaf_size': 1,\n",
       " 'metric': 'manhattan',\n",
       " 'n_neighbors': 300,\n",
       " 'p': 1,\n",
       " 'weights': 'distance'}"
      ]
     },
     "execution_count": 10,
     "metadata": {},
     "output_type": "execute_result"
    }
   ],
   "source": [
    "parametros = gsearch.best_params_\n",
    "parametros"
   ]
  },
  {
   "cell_type": "markdown",
   "id": "ae02ae32-3ff6-4d80-9c35-5260d237002d",
   "metadata": {},
   "source": [
    "## Entreno y veo cómo me va (uso validación)"
   ]
  },
  {
   "cell_type": "code",
   "execution_count": 11,
   "id": "1d27650f-e036-4548-87aa-6bbeb314d09c",
   "metadata": {},
   "outputs": [
    {
     "data": {
      "text/html": [
       "<style>#sk-container-id-2 {color: black;background-color: white;}#sk-container-id-2 pre{padding: 0;}#sk-container-id-2 div.sk-toggleable {background-color: white;}#sk-container-id-2 label.sk-toggleable__label {cursor: pointer;display: block;width: 100%;margin-bottom: 0;padding: 0.3em;box-sizing: border-box;text-align: center;}#sk-container-id-2 label.sk-toggleable__label-arrow:before {content: \"▸\";float: left;margin-right: 0.25em;color: #696969;}#sk-container-id-2 label.sk-toggleable__label-arrow:hover:before {color: black;}#sk-container-id-2 div.sk-estimator:hover label.sk-toggleable__label-arrow:before {color: black;}#sk-container-id-2 div.sk-toggleable__content {max-height: 0;max-width: 0;overflow: hidden;text-align: left;background-color: #f0f8ff;}#sk-container-id-2 div.sk-toggleable__content pre {margin: 0.2em;color: black;border-radius: 0.25em;background-color: #f0f8ff;}#sk-container-id-2 input.sk-toggleable__control:checked~div.sk-toggleable__content {max-height: 200px;max-width: 100%;overflow: auto;}#sk-container-id-2 input.sk-toggleable__control:checked~label.sk-toggleable__label-arrow:before {content: \"▾\";}#sk-container-id-2 div.sk-estimator input.sk-toggleable__control:checked~label.sk-toggleable__label {background-color: #d4ebff;}#sk-container-id-2 div.sk-label input.sk-toggleable__control:checked~label.sk-toggleable__label {background-color: #d4ebff;}#sk-container-id-2 input.sk-hidden--visually {border: 0;clip: rect(1px 1px 1px 1px);clip: rect(1px, 1px, 1px, 1px);height: 1px;margin: -1px;overflow: hidden;padding: 0;position: absolute;width: 1px;}#sk-container-id-2 div.sk-estimator {font-family: monospace;background-color: #f0f8ff;border: 1px dotted black;border-radius: 0.25em;box-sizing: border-box;margin-bottom: 0.5em;}#sk-container-id-2 div.sk-estimator:hover {background-color: #d4ebff;}#sk-container-id-2 div.sk-parallel-item::after {content: \"\";width: 100%;border-bottom: 1px solid gray;flex-grow: 1;}#sk-container-id-2 div.sk-label:hover label.sk-toggleable__label {background-color: #d4ebff;}#sk-container-id-2 div.sk-serial::before {content: \"\";position: absolute;border-left: 1px solid gray;box-sizing: border-box;top: 0;bottom: 0;left: 50%;z-index: 0;}#sk-container-id-2 div.sk-serial {display: flex;flex-direction: column;align-items: center;background-color: white;padding-right: 0.2em;padding-left: 0.2em;position: relative;}#sk-container-id-2 div.sk-item {position: relative;z-index: 1;}#sk-container-id-2 div.sk-parallel {display: flex;align-items: stretch;justify-content: center;background-color: white;position: relative;}#sk-container-id-2 div.sk-item::before, #sk-container-id-2 div.sk-parallel-item::before {content: \"\";position: absolute;border-left: 1px solid gray;box-sizing: border-box;top: 0;bottom: 0;left: 50%;z-index: -1;}#sk-container-id-2 div.sk-parallel-item {display: flex;flex-direction: column;z-index: 1;position: relative;background-color: white;}#sk-container-id-2 div.sk-parallel-item:first-child::after {align-self: flex-end;width: 50%;}#sk-container-id-2 div.sk-parallel-item:last-child::after {align-self: flex-start;width: 50%;}#sk-container-id-2 div.sk-parallel-item:only-child::after {width: 0;}#sk-container-id-2 div.sk-dashed-wrapped {border: 1px dashed gray;margin: 0 0.4em 0.5em 0.4em;box-sizing: border-box;padding-bottom: 0.4em;background-color: white;}#sk-container-id-2 div.sk-label label {font-family: monospace;font-weight: bold;display: inline-block;line-height: 1.2em;}#sk-container-id-2 div.sk-label-container {text-align: center;}#sk-container-id-2 div.sk-container {/* jupyter's `normalize.less` sets `[hidden] { display: none; }` but bootstrap.min.css set `[hidden] { display: none !important; }` so we also need the `!important` here to be able to override the default hidden behavior on the sphinx rendered scikit-learn.org. See: https://github.com/scikit-learn/scikit-learn/issues/21755 */display: inline-block !important;position: relative;}#sk-container-id-2 div.sk-text-repr-fallback {display: none;}</style><div id=\"sk-container-id-2\" class=\"sk-top-container\"><div class=\"sk-text-repr-fallback\"><pre>KNeighborsClassifier(leaf_size=1, metric=&#x27;manhattan&#x27;, n_neighbors=300, p=1,\n",
       "                     weights=&#x27;distance&#x27;)</pre><b>In a Jupyter environment, please rerun this cell to show the HTML representation or trust the notebook. <br />On GitHub, the HTML representation is unable to render, please try loading this page with nbviewer.org.</b></div><div class=\"sk-container\" hidden><div class=\"sk-item\"><div class=\"sk-estimator sk-toggleable\"><input class=\"sk-toggleable__control sk-hidden--visually\" id=\"sk-estimator-id-4\" type=\"checkbox\" checked><label for=\"sk-estimator-id-4\" class=\"sk-toggleable__label sk-toggleable__label-arrow\">KNeighborsClassifier</label><div class=\"sk-toggleable__content\"><pre>KNeighborsClassifier(leaf_size=1, metric=&#x27;manhattan&#x27;, n_neighbors=300, p=1,\n",
       "                     weights=&#x27;distance&#x27;)</pre></div></div></div></div></div>"
      ],
      "text/plain": [
       "KNeighborsClassifier(leaf_size=1, metric='manhattan', n_neighbors=300, p=1,\n",
       "                     weights='distance')"
      ]
     },
     "execution_count": 11,
     "metadata": {},
     "output_type": "execute_result"
    }
   ],
   "source": [
    "modelo = KNeighborsClassifier(**parametros)\n",
    "modelo.fit(df_reducido, noticias_online_train_target_enc)"
   ]
  },
  {
   "cell_type": "code",
   "execution_count": 12,
   "id": "e4d2dc2c-a993-4ee9-b8f5-85363a044d6b",
   "metadata": {},
   "outputs": [],
   "source": [
    "prediccion = modelo.predict_proba(noticias_online_val_count_vec[columnas_a_usar])[:,1]"
   ]
  },
  {
   "cell_type": "code",
   "execution_count": 13,
   "id": "54e8b888-1ebe-4c5f-a7e9-5759ca9e60fa",
   "metadata": {},
   "outputs": [
    {
     "data": {
      "text/plain": [
       "0.7005"
      ]
     },
     "execution_count": 13,
     "metadata": {},
     "output_type": "execute_result"
    }
   ],
   "source": [
    "round(roc_auc_score(noticias_online_val_target_enc, prediccion, average='micro'), 4)"
   ]
  },
  {
   "cell_type": "markdown",
   "id": "58cf8f94-ae50-4393-ba09-98011029d0b3",
   "metadata": {},
   "source": [
    "# Mean imputer, robust scaler, one hot encoding, mean encoding con smoothing y TF-IDF encoding"
   ]
  },
  {
   "cell_type": "markdown",
   "id": "db5821f5-a5d7-4769-80b6-025943369a93",
   "metadata": {},
   "source": [
    "## Encoders y preprocesado de X_train, X_val, Y_train e Y_val"
   ]
  },
  {
   "cell_type": "code",
   "execution_count": 14,
   "id": "46f64ea0-7bc0-41c8-95f9-4dab74bcca0f",
   "metadata": {},
   "outputs": [],
   "source": [
    "noticias_online_train_tf_idf, noticias_online_val_tf_idf, ppp = preprocessing_mean_imputer_robust_escaler_one_hot_encoding_mean_encoding_smooth_tf_idf_vectorizer(\n",
    "    X_train,\n",
    "    X_val,\n",
    "    Y_train,\n",
    "    )\n",
    "\n",
    "noticias_online_train_target_enc = Y_train.map({False: 0, True: 1})\n",
    "noticias_online_val_target_enc = Y_val.map({False: 0, True: 1})"
   ]
  },
  {
   "cell_type": "markdown",
   "id": "22b7098b-f8cb-450f-ac18-f71e3a6bcd44",
   "metadata": {},
   "source": [
    "Sacado de XGBoost:"
   ]
  },
  {
   "cell_type": "code",
   "execution_count": 15,
   "id": "dc095344-7be7-4192-a86e-0c4366d2e5ba",
   "metadata": {},
   "outputs": [],
   "source": [
    "columnas_a_usar = ['data_channel_is_entertainment',\n",
    " 'kw_avg_avg',\n",
    " 'data_channel_is_bus',\n",
    " 'kw_max_max',\n",
    " 'self_reference_avg_sharess',\n",
    " 'data_channel_is_socmed',\n",
    " 'is_weekend',\n",
    " 'weekday_is_saturday',\n",
    " 'data_channel_is_tech',\n",
    " 'kw_max_avg',\n",
    " 'weekday_is_friday',\n",
    " 'kw_min_min',\n",
    " 'num_videos',\n",
    " 'num_imgs',\n",
    " 'self_reference_min_shares',\n",
    " 'credit',\n",
    " 'x0_science/tech',\n",
    " 'n_tokens_content',\n",
    " 'n_unique_tokens',\n",
    " 'LDA_02',\n",
    " 'kw_min_avg',\n",
    " 'x0_the world',\n",
    " 'num_hrefs',\n",
    " 'x0_sports',\n",
    " 'num_self_hrefs',\n",
    " 'kw_min_max',\n",
    " 'n_non_stop_words',\n",
    " 'data_channel_is_lifestyle',\n",
    " 'num_keywords',\n",
    " 'timedelta',\n",
    " 'kw_avg_max',\n",
    " 'said',\n",
    " 'LDA_00',\n",
    " 'LDA_01',\n",
    " 'global_rate_positive_words',\n",
    " 'rate_positive_words',\n",
    " 'n_non_stop_unique_tokens',\n",
    " 'like',\n",
    " 'global_sentiment_polarity',\n",
    " 'global_subjectivity',\n",
    " 'max_negative_polarity',\n",
    " 'weekday_is_tuesday',\n",
    " 'surprise2',\n",
    " 'time',\n",
    " 'abs_title_sentiment_polarity']"
   ]
  },
  {
   "cell_type": "code",
   "execution_count": 16,
   "id": "d93f8ab2-2dec-4e2e-892c-32f0e870605e",
   "metadata": {},
   "outputs": [],
   "source": [
    "df_reducido = noticias_online_train_tf_idf[columnas_a_usar]"
   ]
  },
  {
   "cell_type": "markdown",
   "id": "d320258f-74de-4d67-be7c-e6b209f5923a",
   "metadata": {},
   "source": [
    "## Búsqueda de hiperparámetros"
   ]
  },
  {
   "cell_type": "code",
   "execution_count": 17,
   "id": "ad928ce6-b322-40de-b83c-a7e208671084",
   "metadata": {},
   "outputs": [],
   "source": [
    "knn_model = KNeighborsClassifier()\n",
    "\n",
    "leaf_size = [1, 15]\n",
    "weights = [\"uniform\", \"distance\"]\n",
    "n_neighbors = [200, 500, 900]\n",
    "p = [1, 2]\n",
    "metric = [\"euclidean\", \"manhattan\", \"chebyshev\"]\n",
    "\n",
    "knn_hyperparameters = dict(weights=weights, n_neighbors=n_neighbors, leaf_size=leaf_size, p=p, metric=metric)"
   ]
  },
  {
   "cell_type": "code",
   "execution_count": 18,
   "id": "c658cd87-fae5-49c4-950d-624b755da29a",
   "metadata": {},
   "outputs": [
    {
     "name": "stdout",
     "output_type": "stream",
     "text": [
      "Fitting 5 folds for each of 72 candidates, totalling 360 fits\n"
     ]
    },
    {
     "data": {
      "text/html": [
       "<style>#sk-container-id-3 {color: black;background-color: white;}#sk-container-id-3 pre{padding: 0;}#sk-container-id-3 div.sk-toggleable {background-color: white;}#sk-container-id-3 label.sk-toggleable__label {cursor: pointer;display: block;width: 100%;margin-bottom: 0;padding: 0.3em;box-sizing: border-box;text-align: center;}#sk-container-id-3 label.sk-toggleable__label-arrow:before {content: \"▸\";float: left;margin-right: 0.25em;color: #696969;}#sk-container-id-3 label.sk-toggleable__label-arrow:hover:before {color: black;}#sk-container-id-3 div.sk-estimator:hover label.sk-toggleable__label-arrow:before {color: black;}#sk-container-id-3 div.sk-toggleable__content {max-height: 0;max-width: 0;overflow: hidden;text-align: left;background-color: #f0f8ff;}#sk-container-id-3 div.sk-toggleable__content pre {margin: 0.2em;color: black;border-radius: 0.25em;background-color: #f0f8ff;}#sk-container-id-3 input.sk-toggleable__control:checked~div.sk-toggleable__content {max-height: 200px;max-width: 100%;overflow: auto;}#sk-container-id-3 input.sk-toggleable__control:checked~label.sk-toggleable__label-arrow:before {content: \"▾\";}#sk-container-id-3 div.sk-estimator input.sk-toggleable__control:checked~label.sk-toggleable__label {background-color: #d4ebff;}#sk-container-id-3 div.sk-label input.sk-toggleable__control:checked~label.sk-toggleable__label {background-color: #d4ebff;}#sk-container-id-3 input.sk-hidden--visually {border: 0;clip: rect(1px 1px 1px 1px);clip: rect(1px, 1px, 1px, 1px);height: 1px;margin: -1px;overflow: hidden;padding: 0;position: absolute;width: 1px;}#sk-container-id-3 div.sk-estimator {font-family: monospace;background-color: #f0f8ff;border: 1px dotted black;border-radius: 0.25em;box-sizing: border-box;margin-bottom: 0.5em;}#sk-container-id-3 div.sk-estimator:hover {background-color: #d4ebff;}#sk-container-id-3 div.sk-parallel-item::after {content: \"\";width: 100%;border-bottom: 1px solid gray;flex-grow: 1;}#sk-container-id-3 div.sk-label:hover label.sk-toggleable__label {background-color: #d4ebff;}#sk-container-id-3 div.sk-serial::before {content: \"\";position: absolute;border-left: 1px solid gray;box-sizing: border-box;top: 0;bottom: 0;left: 50%;z-index: 0;}#sk-container-id-3 div.sk-serial {display: flex;flex-direction: column;align-items: center;background-color: white;padding-right: 0.2em;padding-left: 0.2em;position: relative;}#sk-container-id-3 div.sk-item {position: relative;z-index: 1;}#sk-container-id-3 div.sk-parallel {display: flex;align-items: stretch;justify-content: center;background-color: white;position: relative;}#sk-container-id-3 div.sk-item::before, #sk-container-id-3 div.sk-parallel-item::before {content: \"\";position: absolute;border-left: 1px solid gray;box-sizing: border-box;top: 0;bottom: 0;left: 50%;z-index: -1;}#sk-container-id-3 div.sk-parallel-item {display: flex;flex-direction: column;z-index: 1;position: relative;background-color: white;}#sk-container-id-3 div.sk-parallel-item:first-child::after {align-self: flex-end;width: 50%;}#sk-container-id-3 div.sk-parallel-item:last-child::after {align-self: flex-start;width: 50%;}#sk-container-id-3 div.sk-parallel-item:only-child::after {width: 0;}#sk-container-id-3 div.sk-dashed-wrapped {border: 1px dashed gray;margin: 0 0.4em 0.5em 0.4em;box-sizing: border-box;padding-bottom: 0.4em;background-color: white;}#sk-container-id-3 div.sk-label label {font-family: monospace;font-weight: bold;display: inline-block;line-height: 1.2em;}#sk-container-id-3 div.sk-label-container {text-align: center;}#sk-container-id-3 div.sk-container {/* jupyter's `normalize.less` sets `[hidden] { display: none; }` but bootstrap.min.css set `[hidden] { display: none !important; }` so we also need the `!important` here to be able to override the default hidden behavior on the sphinx rendered scikit-learn.org. See: https://github.com/scikit-learn/scikit-learn/issues/21755 */display: inline-block !important;position: relative;}#sk-container-id-3 div.sk-text-repr-fallback {display: none;}</style><div id=\"sk-container-id-3\" class=\"sk-top-container\"><div class=\"sk-text-repr-fallback\"><pre>GridSearchCV(cv=5, estimator=KNeighborsClassifier(), n_jobs=-1,\n",
       "             param_grid={&#x27;leaf_size&#x27;: [1, 15],\n",
       "                         &#x27;metric&#x27;: [&#x27;euclidean&#x27;, &#x27;manhattan&#x27;, &#x27;chebyshev&#x27;],\n",
       "                         &#x27;n_neighbors&#x27;: [200, 500, 900], &#x27;p&#x27;: [1, 2],\n",
       "                         &#x27;weights&#x27;: [&#x27;uniform&#x27;, &#x27;distance&#x27;]},\n",
       "             scoring=&#x27;roc_auc&#x27;, verbose=4)</pre><b>In a Jupyter environment, please rerun this cell to show the HTML representation or trust the notebook. <br />On GitHub, the HTML representation is unable to render, please try loading this page with nbviewer.org.</b></div><div class=\"sk-container\" hidden><div class=\"sk-item sk-dashed-wrapped\"><div class=\"sk-label-container\"><div class=\"sk-label sk-toggleable\"><input class=\"sk-toggleable__control sk-hidden--visually\" id=\"sk-estimator-id-5\" type=\"checkbox\" ><label for=\"sk-estimator-id-5\" class=\"sk-toggleable__label sk-toggleable__label-arrow\">GridSearchCV</label><div class=\"sk-toggleable__content\"><pre>GridSearchCV(cv=5, estimator=KNeighborsClassifier(), n_jobs=-1,\n",
       "             param_grid={&#x27;leaf_size&#x27;: [1, 15],\n",
       "                         &#x27;metric&#x27;: [&#x27;euclidean&#x27;, &#x27;manhattan&#x27;, &#x27;chebyshev&#x27;],\n",
       "                         &#x27;n_neighbors&#x27;: [200, 500, 900], &#x27;p&#x27;: [1, 2],\n",
       "                         &#x27;weights&#x27;: [&#x27;uniform&#x27;, &#x27;distance&#x27;]},\n",
       "             scoring=&#x27;roc_auc&#x27;, verbose=4)</pre></div></div></div><div class=\"sk-parallel\"><div class=\"sk-parallel-item\"><div class=\"sk-item\"><div class=\"sk-label-container\"><div class=\"sk-label sk-toggleable\"><input class=\"sk-toggleable__control sk-hidden--visually\" id=\"sk-estimator-id-6\" type=\"checkbox\" ><label for=\"sk-estimator-id-6\" class=\"sk-toggleable__label sk-toggleable__label-arrow\">estimator: KNeighborsClassifier</label><div class=\"sk-toggleable__content\"><pre>KNeighborsClassifier()</pre></div></div></div><div class=\"sk-serial\"><div class=\"sk-item\"><div class=\"sk-estimator sk-toggleable\"><input class=\"sk-toggleable__control sk-hidden--visually\" id=\"sk-estimator-id-7\" type=\"checkbox\" ><label for=\"sk-estimator-id-7\" class=\"sk-toggleable__label sk-toggleable__label-arrow\">KNeighborsClassifier</label><div class=\"sk-toggleable__content\"><pre>KNeighborsClassifier()</pre></div></div></div></div></div></div></div></div></div></div>"
      ],
      "text/plain": [
       "GridSearchCV(cv=5, estimator=KNeighborsClassifier(), n_jobs=-1,\n",
       "             param_grid={'leaf_size': [1, 15],\n",
       "                         'metric': ['euclidean', 'manhattan', 'chebyshev'],\n",
       "                         'n_neighbors': [200, 500, 900], 'p': [1, 2],\n",
       "                         'weights': ['uniform', 'distance']},\n",
       "             scoring='roc_auc', verbose=4)"
      ]
     },
     "execution_count": 18,
     "metadata": {},
     "output_type": "execute_result"
    }
   ],
   "source": [
    "gsearch = GridSearchCV(estimator=knn_model, param_grid=knn_hyperparameters, cv=5, verbose=4, scoring='roc_auc', n_jobs=-1)\n",
    "gsearch.fit(df_reducido, noticias_online_train_target_enc)"
   ]
  },
  {
   "cell_type": "code",
   "execution_count": 19,
   "id": "8f542ace-6803-4964-93e2-9b26aa571b4f",
   "metadata": {},
   "outputs": [
    {
     "data": {
      "text/plain": [
       "{'leaf_size': 1,\n",
       " 'metric': 'manhattan',\n",
       " 'n_neighbors': 900,\n",
       " 'p': 1,\n",
       " 'weights': 'uniform'}"
      ]
     },
     "execution_count": 19,
     "metadata": {},
     "output_type": "execute_result"
    }
   ],
   "source": [
    "parametros = gsearch.best_params_\n",
    "parametros"
   ]
  },
  {
   "cell_type": "markdown",
   "id": "439e764d-2b14-42ed-91d3-91fb88e4ec20",
   "metadata": {},
   "source": [
    "## Entreno y veo cómo me va (uso validación)"
   ]
  },
  {
   "cell_type": "code",
   "execution_count": 23,
   "id": "6018ca4c-f2b1-42bc-a3d8-1d2a3fc7c58d",
   "metadata": {},
   "outputs": [],
   "source": [
    "p = parametros\n",
    "p['n_neighbors'] = 1000"
   ]
  },
  {
   "cell_type": "code",
   "execution_count": 24,
   "id": "e5e08877-3154-4484-9515-d6947be25859",
   "metadata": {},
   "outputs": [
    {
     "data": {
      "text/html": [
       "<style>#sk-container-id-5 {color: black;background-color: white;}#sk-container-id-5 pre{padding: 0;}#sk-container-id-5 div.sk-toggleable {background-color: white;}#sk-container-id-5 label.sk-toggleable__label {cursor: pointer;display: block;width: 100%;margin-bottom: 0;padding: 0.3em;box-sizing: border-box;text-align: center;}#sk-container-id-5 label.sk-toggleable__label-arrow:before {content: \"▸\";float: left;margin-right: 0.25em;color: #696969;}#sk-container-id-5 label.sk-toggleable__label-arrow:hover:before {color: black;}#sk-container-id-5 div.sk-estimator:hover label.sk-toggleable__label-arrow:before {color: black;}#sk-container-id-5 div.sk-toggleable__content {max-height: 0;max-width: 0;overflow: hidden;text-align: left;background-color: #f0f8ff;}#sk-container-id-5 div.sk-toggleable__content pre {margin: 0.2em;color: black;border-radius: 0.25em;background-color: #f0f8ff;}#sk-container-id-5 input.sk-toggleable__control:checked~div.sk-toggleable__content {max-height: 200px;max-width: 100%;overflow: auto;}#sk-container-id-5 input.sk-toggleable__control:checked~label.sk-toggleable__label-arrow:before {content: \"▾\";}#sk-container-id-5 div.sk-estimator input.sk-toggleable__control:checked~label.sk-toggleable__label {background-color: #d4ebff;}#sk-container-id-5 div.sk-label input.sk-toggleable__control:checked~label.sk-toggleable__label {background-color: #d4ebff;}#sk-container-id-5 input.sk-hidden--visually {border: 0;clip: rect(1px 1px 1px 1px);clip: rect(1px, 1px, 1px, 1px);height: 1px;margin: -1px;overflow: hidden;padding: 0;position: absolute;width: 1px;}#sk-container-id-5 div.sk-estimator {font-family: monospace;background-color: #f0f8ff;border: 1px dotted black;border-radius: 0.25em;box-sizing: border-box;margin-bottom: 0.5em;}#sk-container-id-5 div.sk-estimator:hover {background-color: #d4ebff;}#sk-container-id-5 div.sk-parallel-item::after {content: \"\";width: 100%;border-bottom: 1px solid gray;flex-grow: 1;}#sk-container-id-5 div.sk-label:hover label.sk-toggleable__label {background-color: #d4ebff;}#sk-container-id-5 div.sk-serial::before {content: \"\";position: absolute;border-left: 1px solid gray;box-sizing: border-box;top: 0;bottom: 0;left: 50%;z-index: 0;}#sk-container-id-5 div.sk-serial {display: flex;flex-direction: column;align-items: center;background-color: white;padding-right: 0.2em;padding-left: 0.2em;position: relative;}#sk-container-id-5 div.sk-item {position: relative;z-index: 1;}#sk-container-id-5 div.sk-parallel {display: flex;align-items: stretch;justify-content: center;background-color: white;position: relative;}#sk-container-id-5 div.sk-item::before, #sk-container-id-5 div.sk-parallel-item::before {content: \"\";position: absolute;border-left: 1px solid gray;box-sizing: border-box;top: 0;bottom: 0;left: 50%;z-index: -1;}#sk-container-id-5 div.sk-parallel-item {display: flex;flex-direction: column;z-index: 1;position: relative;background-color: white;}#sk-container-id-5 div.sk-parallel-item:first-child::after {align-self: flex-end;width: 50%;}#sk-container-id-5 div.sk-parallel-item:last-child::after {align-self: flex-start;width: 50%;}#sk-container-id-5 div.sk-parallel-item:only-child::after {width: 0;}#sk-container-id-5 div.sk-dashed-wrapped {border: 1px dashed gray;margin: 0 0.4em 0.5em 0.4em;box-sizing: border-box;padding-bottom: 0.4em;background-color: white;}#sk-container-id-5 div.sk-label label {font-family: monospace;font-weight: bold;display: inline-block;line-height: 1.2em;}#sk-container-id-5 div.sk-label-container {text-align: center;}#sk-container-id-5 div.sk-container {/* jupyter's `normalize.less` sets `[hidden] { display: none; }` but bootstrap.min.css set `[hidden] { display: none !important; }` so we also need the `!important` here to be able to override the default hidden behavior on the sphinx rendered scikit-learn.org. See: https://github.com/scikit-learn/scikit-learn/issues/21755 */display: inline-block !important;position: relative;}#sk-container-id-5 div.sk-text-repr-fallback {display: none;}</style><div id=\"sk-container-id-5\" class=\"sk-top-container\"><div class=\"sk-text-repr-fallback\"><pre>KNeighborsClassifier(leaf_size=1, metric=&#x27;manhattan&#x27;, n_neighbors=1000, p=1)</pre><b>In a Jupyter environment, please rerun this cell to show the HTML representation or trust the notebook. <br />On GitHub, the HTML representation is unable to render, please try loading this page with nbviewer.org.</b></div><div class=\"sk-container\" hidden><div class=\"sk-item\"><div class=\"sk-estimator sk-toggleable\"><input class=\"sk-toggleable__control sk-hidden--visually\" id=\"sk-estimator-id-9\" type=\"checkbox\" checked><label for=\"sk-estimator-id-9\" class=\"sk-toggleable__label sk-toggleable__label-arrow\">KNeighborsClassifier</label><div class=\"sk-toggleable__content\"><pre>KNeighborsClassifier(leaf_size=1, metric=&#x27;manhattan&#x27;, n_neighbors=1000, p=1)</pre></div></div></div></div></div>"
      ],
      "text/plain": [
       "KNeighborsClassifier(leaf_size=1, metric='manhattan', n_neighbors=1000, p=1)"
      ]
     },
     "execution_count": 24,
     "metadata": {},
     "output_type": "execute_result"
    }
   ],
   "source": [
    "modelo = KNeighborsClassifier(**p)\n",
    "modelo.fit(df_reducido, noticias_online_train_target_enc)"
   ]
  },
  {
   "cell_type": "code",
   "execution_count": 25,
   "id": "0cc96d13-0869-4e59-81d4-4aa3e96b70c9",
   "metadata": {},
   "outputs": [],
   "source": [
    "prediccion = modelo.predict_proba(noticias_online_val_tf_idf[columnas_a_usar])[:,1]"
   ]
  },
  {
   "cell_type": "code",
   "execution_count": 26,
   "id": "800fc7a4-9cd2-404d-9752-f97aae6ab058",
   "metadata": {},
   "outputs": [
    {
     "data": {
      "text/plain": [
       "0.7002"
      ]
     },
     "execution_count": 26,
     "metadata": {},
     "output_type": "execute_result"
    }
   ],
   "source": [
    "round(roc_auc_score(noticias_online_val_target_enc, prediccion, average='micro'), 4)"
   ]
  }
 ],
 "metadata": {
  "kernelspec": {
   "display_name": "Python 3 (ipykernel)",
   "language": "python",
   "name": "python3"
  },
  "language_info": {
   "codemirror_mode": {
    "name": "ipython",
    "version": 3
   },
   "file_extension": ".py",
   "mimetype": "text/x-python",
   "name": "python",
   "nbconvert_exporter": "python",
   "pygments_lexer": "ipython3",
   "version": "3.9.13"
  }
 },
 "nbformat": 4,
 "nbformat_minor": 5
}
